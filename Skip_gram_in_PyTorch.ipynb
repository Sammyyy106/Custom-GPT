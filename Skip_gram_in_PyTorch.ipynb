{
  "nbformat": 4,
  "nbformat_minor": 0,
  "metadata": {
    "colab": {
      "provenance": [],
      "include_colab_link": true
    },
    "kernelspec": {
      "name": "python3",
      "display_name": "Python 3"
    },
    "language_info": {
      "name": "python"
    }
  },
  "cells": [
    {
      "cell_type": "markdown",
      "metadata": {
        "id": "view-in-github",
        "colab_type": "text"
      },
      "source": [
        "<a href=\"https://colab.research.google.com/github/Divyansh-Jain312/SOC-Assignment-2/blob/main/Copy_of_Skip_gram_in_PyTorch_(Graded).ipynb\" target=\"_parent\"><img src=\"https://colab.research.google.com/assets/colab-badge.svg\" alt=\"Open In Colab\"/></a>"
      ]
    },
    {
      "cell_type": "markdown",
      "source": [
        "## **Implementing Skip-gram Word Embeddings in PyTorch**\n",
        "\n",
        "Arguably the most crucial step in NLP is to convert words and sentences into a form that neural networks can work with - a vector of numbers.  \n",
        "\n",
        "In this part of Week 2's graded assignment, you will implement the Skip-gram word embedding model for a given set of documents (sentences in our case). You will also observe the trends and similarities between the vector representations of different words.\n",
        "\n",
        "### **Note:**\n",
        "**You are to only write/modify the code in between consecutive `# <START>` and `# <END>` comments. DO NOT modify other parts of the notebook, your assignments will not be graded otherwise.**\n",
        "\n",
        "```python\n",
        "\"Don't modify any code here\"\n",
        "\n",
        "# < START >\n",
        "\"YOUR CODE GOES HERE!\"\n",
        "# < END >\n",
        "\n",
        "\"Don't modify any code here\"\n",
        "```\n",
        "\n"
      ],
      "metadata": {
        "id": "lHoIAWcfiUpo"
      }
    },
    {
      "cell_type": "markdown",
      "source": [
        "## **Import the Libraries**\n",
        "\n",
        "Run the cell below to import all the necessary libraries for training and using the skip-gram model.\n",
        "\n",
        "Some of the important ones\n",
        "- [PyTorch](https://pytorch.org/docs/stable/index.html) for tensors and training the neural network\n",
        "- NLTK (Natural Language ToolKit) for text pre-processing (specifically, stop-word removal and tokenization).\n",
        "- `re` module for RegEx\n",
        "- [Pandas](https://pandas.pydata.org/docs/reference/index.html) for data manipulation\n",
        "- scikit-learn for some implementations of involved matrix maths"
      ],
      "metadata": {
        "id": "tTJTiyRTm6kT"
      }
    },
    {
      "cell_type": "code",
      "execution_count": null,
      "metadata": {
        "id": "Kv4BZTQcVZ8u",
        "colab": {
          "base_uri": "https://localhost:8080/"
        },
        "outputId": "365b7929-ff78-4838-ffef-e1e1b6f6b1aa"
      },
      "outputs": [
        {
          "output_type": "stream",
          "name": "stderr",
          "text": [
            "[nltk_data] Downloading package punkt to /root/nltk_data...\n",
            "[nltk_data]   Unzipping tokenizers/punkt.zip.\n",
            "[nltk_data] Downloading package stopwords to /root/nltk_data...\n",
            "[nltk_data]   Unzipping corpora/stopwords.zip.\n"
          ]
        }
      ],
      "source": [
        "# PyTorch\n",
        "import torch\n",
        "import torch.nn as nn\n",
        "\n",
        "torch.manual_seed(10)\n",
        "torch.set_default_device(\"cuda\" if torch.cuda.is_available() else \"cpu\")\n",
        "\n",
        "# NLTK (Natural Language ToolKit)\n",
        "import nltk\n",
        "nltk.download('punkt')\n",
        "nltk.download('stopwords')\n",
        "from nltk.corpus import stopwords\n",
        "\n",
        "import re\n",
        "import pandas as pd\n",
        "import numpy as np\n",
        "from sklearn import decomposition\n",
        "from sklearn.metrics.pairwise import cosine_similarity\n",
        "\n",
        "# Graphing\n",
        "import seaborn as sns\n",
        "from matplotlib import pyplot as plt\n",
        "%matplotlib inline\n",
        "plt.rcParams['figure.figsize'] = (10,8)\n",
        "\n",
        "# Disable warnings\n",
        "import warnings\n",
        "warnings.filterwarnings(\"ignore\")"
      ]
    },
    {
      "cell_type": "markdown",
      "source": [
        "## **Preprocessing**\n",
        "Before you train your model on a body of text, it has to be split into individual _\"words\"_, that have been reduced to their simplest form. This is done in pre-processing, and involves the steps shows below:\n",
        "![picture](https://d2mk45aasx86xg.cloudfront.net/Natural_language_processing_pipeline_e3608ff95c.webp)\n",
        "\n",
        "**In this section, you will implement a simplified pre-processing pipeline for your body of text.** We will not be dealing with the last two steps (dependency parsing, POS tagging) in this assignment."
      ],
      "metadata": {
        "id": "YOa9U7Fo9Nwt"
      }
    },
    {
      "cell_type": "markdown",
      "source": [
        "### **Corpus and Sentence Segmentation**\n",
        "According to Google,\n",
        ">**Corpus**  (*noun*)  \n",
        "a collection of written or spoken material in machine-readable form, assembled for the purpose of linguistic research.\n",
        "\n",
        "Simply, a corpus is a collection of text used to train a neural network. Usually the text you have is a long string that you would need to split into individual sentences, but for this assignment this step has already been done.  \n",
        "Run this cell to intialize `corpus`.\n",
        "\n"
      ],
      "metadata": {
        "id": "UPEc3hR5_PPb"
      }
    },
    {
      "cell_type": "code",
      "source": [
        "corpus = [\n",
        "    'Drink milk',\n",
        "    'Drink cold water',\n",
        "    'Drink cold cola',\n",
        "    'He is drinking juice',\n",
        "    'Drinking cola and juice',\n",
        "    'Eat roti for lunch',\n",
        "    'Eat mango',\n",
        "    'Eating a cherry',\n",
        "    'Eating an apple',\n",
        "    'Juice with sugar',\n",
        "    'Cola with sugar',\n",
        "    'Mango is a fruit',\n",
        "    'Apple is a fruit',\n",
        "    'Cherry is a fruit',\n",
        "    'Berlin is in Germany',\n",
        "    'Boston is in USA',\n",
        "    'Mercedes is a car',\n",
        "    'Mercedes is from Germany',\n",
        "    'Ford is a car',\n",
        "    'Ford is a car from USA',\n",
        "]"
      ],
      "metadata": {
        "id": "phreYNlJm4W9"
      },
      "execution_count": null,
      "outputs": []
    },
    {
      "cell_type": "markdown",
      "source": [
        "### **Tokenization**\n",
        "Tokenization is done to break down the text into smaller, more manageable units. This can be achieved by simply breaking them down into individual words, although most tokenizers are a bit more complex.\n",
        "\n",
        "### **Stemming**\n",
        "Stemming is a natural language processing technique that is used to reduce words to their base form, also known as the root form. The process of stemming is used to normalize text and make it easier to process.  This is usually done by removing prefixes and suffixes added to the word.  \n",
        "These algorithms are usually much simpler and faster than **lemmetization**, but don't always produce accurate results, as we will see soon.\n",
        "\n",
        "### **Removing stop words**\n",
        "Stop words are common words in English that do not contribute any real meaning to the sentence. Removing these stop words speeds up processing and allows the application to focus on the more important words instead."
      ],
      "metadata": {
        "id": "VxHyaQ_LI8Ff"
      }
    },
    {
      "cell_type": "code",
      "source": [
        "# Some of the stopwords\n",
        "print(\" \".join(stopwords.words('english')[:20]),\" \".join(stopwords.words('english')[45:60]))"
      ],
      "metadata": {
        "id": "ChGc_GWkRFad",
        "colab": {
          "base_uri": "https://localhost:8080/"
        },
        "outputId": "dcf60a93-3765-4eb1-b908-c6ba5fc4b8c1"
      },
      "execution_count": null,
      "outputs": [
        {
          "output_type": "stream",
          "name": "stdout",
          "text": [
            "i me my myself we our ours ourselves you you're you've you'll you'd your yours yourself yourselves he him his is are was were be been being have has had having do does did doing\n"
          ]
        }
      ]
    },
    {
      "cell_type": "markdown",
      "source": [
        "Your corpus has been chosen in such a way that it is mostly cleaned up, but still contains:\n",
        "- a few verbs in their -ing form\n",
        "- a significant amount of stop-words\n",
        "\n",
        "Write a `preprocess` function that takes the corpus as an argument, and outputs a list of lists, where **each inner list representing the corresponing sentence in tokenized form (using NLTK)**, and with:\n",
        "- **the stop words removed**\n",
        "- **\"-ing\" form verbs reduced to their normal forms**\n",
        "\n",
        "using string methods and RegEx (you are not obligated to use both though, feel free to implement it with just one).\n",
        "\n",
        "_Note: **We do not want you to implement a stemmer that converts all -ing form verbs in English to the correct root verb.** Observe that the given corpus only contains verbs that have been converted to their continuous form simply by suffixing \"ing\"_\n",
        "<details>\n",
        "  <summary>Hint (reg NLTK)</summary>\n",
        "The only function you really need from NLTK is <a href=\"https://www.nltk.org/api/nltk.tokenize.word_tokenize.html\"><code>nltk.tokenize.word_tokenize()</code></a>\n",
        "</details>\n",
        "<details>\n",
        "  <summary>Why has the stop words list been converted to a set?</summary>\n",
        "When using the <code>in</code> operator to check for the existence of an element in a list, Python traverses the list checking each element one-by-one. As such, the larger the list the longer it takes.<br>  \n",
        "However, sets are unordered collections implemented using hash maps. What this means is that to check if a set has a certain value, all Python has to do is pass that value in a \"function\" that outputs the location at which the set would store that value if it did contain it. As such, no matter how big the set is, it takes the same amount of time to check for existence.\n",
        "</details>"
      ],
      "metadata": {
        "id": "JzVCHfqURK0F"
      }
    },
    {
      "cell_type": "code",
      "source": [
        "# The list of stopwords has been coverted into a set, making it faster to check if a given word is in it\n",
        "stop_words = set(stopwords.words('english'))\n",
        "\n",
        "def preprocess(corpus):\n",
        "    result = []\n",
        "    for i in corpus:\n",
        "      #\n",
        "      token = nltk.tokenize.word_tokenize(i)\n",
        "      token = [i.lower() for i in token if i.lower() not in stop_words]\n",
        "      token = [re.sub(r'ing$', '', i) for i in token]\n",
        "      out = token\n",
        "      #\n",
        "      result.append(out)\n",
        "    return result\n",
        "\n",
        "# Test for if the function behaves as expected, notice the last test case and expected output\n",
        "test_preprocess = preprocess(['Python is a language','The cake is a lie','He is doing practice','Writing code'])\n",
        "assert test_preprocess == [['python', 'language'],['cake', 'lie'],['practice'],['writ', 'code']]"
      ],
      "metadata": {
        "id": "R24rToagnKWA"
      },
      "execution_count": null,
      "outputs": []
    },
    {
      "cell_type": "markdown",
      "source": [
        "As you can see in the assertion test, the extremely simple stemmer is not going to be able to account for different grammar rules. The average stemmer is many times more intricate, but still often generates non-sense words.\n",
        "\n",
        "The common alternative to this is to use **lemmetization**, which is a slower but more pedantic method that always produces sensible words, but may not reduce words to the same initial root word if they have become too different.\n",
        "\n",
        "Lemmetization and stemming are often used together, to complement each other.\n",
        "\n",
        "Now use the `preprocess` function on the given corpus."
      ],
      "metadata": {
        "id": "zVVDQ7xNQGNS"
      }
    },
    {
      "cell_type": "code",
      "source": [
        "corpus = preprocess(corpus)\n",
        "corpus"
      ],
      "metadata": {
        "id": "3c-_9LtPQE5G",
        "colab": {
          "base_uri": "https://localhost:8080/"
        },
        "outputId": "1fbed89c-1b04-4179-d7e8-caad9b0bb60c"
      },
      "execution_count": null,
      "outputs": [
        {
          "output_type": "execute_result",
          "data": {
            "text/plain": [
              "[['drink', 'milk'],\n",
              " ['drink', 'cold', 'water'],\n",
              " ['drink', 'cold', 'cola'],\n",
              " ['drink', 'juice'],\n",
              " ['drink', 'cola', 'juice'],\n",
              " ['eat', 'roti', 'lunch'],\n",
              " ['eat', 'mango'],\n",
              " ['eat', 'cherry'],\n",
              " ['eat', 'apple'],\n",
              " ['juice', 'sugar'],\n",
              " ['cola', 'sugar'],\n",
              " ['mango', 'fruit'],\n",
              " ['apple', 'fruit'],\n",
              " ['cherry', 'fruit'],\n",
              " ['berlin', 'germany'],\n",
              " ['boston', 'usa'],\n",
              " ['mercedes', 'car'],\n",
              " ['mercedes', 'germany'],\n",
              " ['ford', 'car'],\n",
              " ['ford', 'car', 'usa']]"
            ]
          },
          "metadata": {},
          "execution_count": 6
        }
      ]
    },
    {
      "cell_type": "markdown",
      "source": [
        "## **Building the vocabulary**\n",
        "\n",
        "Before we start representing words as vectors, we must first identify how many **unique** words our corpus contains. Complete the below function to create a dictionary of words `vocabulary`. This will contain all the words from the corpus our neural network will be trained on as keys, and a unique incrementing ID for each word, starting from `0` as the corresponding value.\n",
        "\n",
        "_Remember: Dicts are key-value collections_\n",
        "```python\n",
        " dict = {'key': value}\n",
        " dict['new key'] = new_value\n",
        " ```"
      ],
      "metadata": {
        "id": "cgaTWpgb_4pX"
      }
    },
    {
      "cell_type": "code",
      "source": [
        "def create_vocabulary(corpus):\n",
        "  # Creates a dictionary with all unique words in corpus with id\n",
        "  vocabulary = {}\n",
        "  id = 0\n",
        "  #\n",
        "  corpus = [i for sentence in corpus for i in sentence]\n",
        "  for sentence in corpus:\n",
        "    if sentence in (vocabulary.keys()):\n",
        "      pass\n",
        "    else:\n",
        "      vocabulary[sentence] = id\n",
        "      id += 1\n",
        "  #\n",
        "  return vocabulary\n",
        "# Test for create_vocabulary\n",
        "assert(create_vocabulary([['words','are','many'],['many','words','exist'],['are','we','exist']]) == {'words': 0, 'are': 1, 'many': 2, 'exist': 3, 'we': 4})\n",
        "vocabulary = create_vocabulary(corpus)\n"
      ],
      "metadata": {
        "id": "eOqAEmIRA0gf"
      },
      "execution_count": null,
      "outputs": []
    },
    {
      "cell_type": "markdown",
      "source": [
        "## **Creating the dataset**\n",
        "\n",
        "Now we analyse each sentence in the corpus and create a dataset that holds each `(word, neighbour)` pair.\n",
        "\n",
        "![Neighbor pairing for bi-gram (n=2)](https://miro.medium.com/v2/resize:fit:552/format:webp/1*jkxbwD55_8M3XBRb1bGm7A.png \"Neighbor pairing for bi-gram (n=2)\")\n",
        ">_The word highlighted in yellow is the source word and the words highlighted in green are its neighboring words._\n",
        "\n",
        "Complete the function `prepare_neighbour_set` that takes the tokenized `corpus` and an optional integer `n_gram`, and returns a Pandas DataFrame `result` that contains two columns, `Input` and `Output`. Input column contains each source word, and Output column contains the neighbours of the source word, within a `n_gram` range on either side.\n",
        "\n",
        "$$\n",
        "\\text{['this', 'is', 'a', 'sentence']  (n_gram = 1)}\n",
        "$$\n",
        "\n",
        "$$\n",
        "\\newcommand\\T{\\Rule{0pt}{1em}{.3em}}\n",
        "\\begin{array}{|c|c|}\n",
        "\\hline Input & Output \\T \\\\\\hline\n",
        "  this \\T & is \\\\\\hline\n",
        "  is \\T & this \\\\\\hline\n",
        "  is \\T & a \\\\\\hline\n",
        "  a \\T & is \\\\\\hline\n",
        "  a \\T & sentence \\\\\\hline\n",
        "  sentence \\T & a \\\\\\hline\n",
        "\\end{array}\n",
        "$$\n",
        "\n",
        "Remember to account for the corner cases, where the Input word may not have enough neighbours on both sides.\n",
        "\n",
        "<details>\n",
        "  <summary>Hint</summary>\n",
        "  To add a row to the DataFrame, use the following code\n",
        "  <code>result = result.append(row, ignore_index = True)</code>\n",
        "  <br>\n",
        "  The row dataframe should have the same columns as the result dataframe.\n",
        "  <br>\n",
        "  This is a deprecated function, but it is apt for the current scenario so feel free to use it\n",
        "</details>"
      ],
      "metadata": {
        "id": "iUlo7zO6GWYW"
      }
    },
    {
      "cell_type": "code",
      "source": [
        "def prepare_neighbour_set(corpus, n_gram = 1):\n",
        "  # Creates a dataset with Input column and Output column for neighboring words.\n",
        "  # The number of neighbors = n_gram*2\n",
        "  columns = ['Input', 'Output']\n",
        "  result = pd.DataFrame(columns = columns)\n",
        "  print(corpus)\n",
        "  for sentence in corpus:\n",
        "    for i,word in enumerate(sentence):\n",
        "    #\n",
        "      for j in range(i-n_gram,i+n_gram+1):\n",
        "        if j < 0 or j >= len(sentence):\n",
        "          pass\n",
        "        else:\n",
        "          if i == j:\n",
        "            pass\n",
        "          else:\n",
        "            result = pd.concat([result, pd.DataFrame({'Input': [word], 'Output':[sentence[j]] })], ignore_index=True)\n",
        "    #\n",
        "    return result\n"
      ],
      "metadata": {
        "id": "1YYXTmMpBQZC"
      },
      "execution_count": null,
      "outputs": []
    },
    {
      "cell_type": "code",
      "source": [
        "# Test to check prepare_neighbour_set. The rows are\n",
        "# sorted to make the assertion order-insensitive\n",
        "test_neighbour = prepare_neighbour_set([['this','is','a','sentence']]).sort_values(by=['Input','Output'])\n",
        "\n",
        "test_neighbour_expected = pd.DataFrame({\n",
        "    'Input': ['this','is','is','a','a','sentence'],\n",
        "    'Output': ['is','this','a','is','sentence','a']\n",
        "}).sort_values(by=['Input','Output'])\n",
        "\n",
        "assert test_neighbour.equals(test_neighbour_expected)\n",
        "\n",
        "# Initialize neighbour words dataset for corpus\n",
        "train_emb = prepare_neighbour_set(corpus, n_gram = 2)\n",
        "train_emb.head()"
      ],
      "metadata": {
        "id": "n5zNwck34aJS",
        "colab": {
          "base_uri": "https://localhost:8080/",
          "height": 168
        },
        "outputId": "af1c2386-4d76-4be6-a3ec-a3912fd475b4"
      },
      "execution_count": null,
      "outputs": [
        {
          "output_type": "stream",
          "name": "stdout",
          "text": [
            "[['this', 'is', 'a', 'sentence']]\n",
            "[['drink', 'milk'], ['drink', 'cold', 'water'], ['drink', 'cold', 'cola'], ['drink', 'juice'], ['drink', 'cola', 'juice'], ['eat', 'roti', 'lunch'], ['eat', 'mango'], ['eat', 'cherry'], ['eat', 'apple'], ['juice', 'sugar'], ['cola', 'sugar'], ['mango', 'fruit'], ['apple', 'fruit'], ['cherry', 'fruit'], ['berlin', 'germany'], ['boston', 'usa'], ['mercedes', 'car'], ['mercedes', 'germany'], ['ford', 'car'], ['ford', 'car', 'usa']]\n"
          ]
        },
        {
          "output_type": "execute_result",
          "data": {
            "text/plain": [
              "   Input Output\n",
              "0  drink   milk\n",
              "1   milk  drink"
            ],
            "text/html": [
              "\n",
              "  <div id=\"df-28d37bea-e843-410a-af68-c9ac86d6f6bb\" class=\"colab-df-container\">\n",
              "    <div>\n",
              "<style scoped>\n",
              "    .dataframe tbody tr th:only-of-type {\n",
              "        vertical-align: middle;\n",
              "    }\n",
              "\n",
              "    .dataframe tbody tr th {\n",
              "        vertical-align: top;\n",
              "    }\n",
              "\n",
              "    .dataframe thead th {\n",
              "        text-align: right;\n",
              "    }\n",
              "</style>\n",
              "<table border=\"1\" class=\"dataframe\">\n",
              "  <thead>\n",
              "    <tr style=\"text-align: right;\">\n",
              "      <th></th>\n",
              "      <th>Input</th>\n",
              "      <th>Output</th>\n",
              "    </tr>\n",
              "  </thead>\n",
              "  <tbody>\n",
              "    <tr>\n",
              "      <th>0</th>\n",
              "      <td>drink</td>\n",
              "      <td>milk</td>\n",
              "    </tr>\n",
              "    <tr>\n",
              "      <th>1</th>\n",
              "      <td>milk</td>\n",
              "      <td>drink</td>\n",
              "    </tr>\n",
              "  </tbody>\n",
              "</table>\n",
              "</div>\n",
              "    <div class=\"colab-df-buttons\">\n",
              "\n",
              "  <div class=\"colab-df-container\">\n",
              "    <button class=\"colab-df-convert\" onclick=\"convertToInteractive('df-28d37bea-e843-410a-af68-c9ac86d6f6bb')\"\n",
              "            title=\"Convert this dataframe to an interactive table.\"\n",
              "            style=\"display:none;\">\n",
              "\n",
              "  <svg xmlns=\"http://www.w3.org/2000/svg\" height=\"24px\" viewBox=\"0 -960 960 960\">\n",
              "    <path d=\"M120-120v-720h720v720H120Zm60-500h600v-160H180v160Zm220 220h160v-160H400v160Zm0 220h160v-160H400v160ZM180-400h160v-160H180v160Zm440 0h160v-160H620v160ZM180-180h160v-160H180v160Zm440 0h160v-160H620v160Z\"/>\n",
              "  </svg>\n",
              "    </button>\n",
              "\n",
              "  <style>\n",
              "    .colab-df-container {\n",
              "      display:flex;\n",
              "      gap: 12px;\n",
              "    }\n",
              "\n",
              "    .colab-df-convert {\n",
              "      background-color: #E8F0FE;\n",
              "      border: none;\n",
              "      border-radius: 50%;\n",
              "      cursor: pointer;\n",
              "      display: none;\n",
              "      fill: #1967D2;\n",
              "      height: 32px;\n",
              "      padding: 0 0 0 0;\n",
              "      width: 32px;\n",
              "    }\n",
              "\n",
              "    .colab-df-convert:hover {\n",
              "      background-color: #E2EBFA;\n",
              "      box-shadow: 0px 1px 2px rgba(60, 64, 67, 0.3), 0px 1px 3px 1px rgba(60, 64, 67, 0.15);\n",
              "      fill: #174EA6;\n",
              "    }\n",
              "\n",
              "    .colab-df-buttons div {\n",
              "      margin-bottom: 4px;\n",
              "    }\n",
              "\n",
              "    [theme=dark] .colab-df-convert {\n",
              "      background-color: #3B4455;\n",
              "      fill: #D2E3FC;\n",
              "    }\n",
              "\n",
              "    [theme=dark] .colab-df-convert:hover {\n",
              "      background-color: #434B5C;\n",
              "      box-shadow: 0px 1px 3px 1px rgba(0, 0, 0, 0.15);\n",
              "      filter: drop-shadow(0px 1px 2px rgba(0, 0, 0, 0.3));\n",
              "      fill: #FFFFFF;\n",
              "    }\n",
              "  </style>\n",
              "\n",
              "    <script>\n",
              "      const buttonEl =\n",
              "        document.querySelector('#df-28d37bea-e843-410a-af68-c9ac86d6f6bb button.colab-df-convert');\n",
              "      buttonEl.style.display =\n",
              "        google.colab.kernel.accessAllowed ? 'block' : 'none';\n",
              "\n",
              "      async function convertToInteractive(key) {\n",
              "        const element = document.querySelector('#df-28d37bea-e843-410a-af68-c9ac86d6f6bb');\n",
              "        const dataTable =\n",
              "          await google.colab.kernel.invokeFunction('convertToInteractive',\n",
              "                                                    [key], {});\n",
              "        if (!dataTable) return;\n",
              "\n",
              "        const docLinkHtml = 'Like what you see? Visit the ' +\n",
              "          '<a target=\"_blank\" href=https://colab.research.google.com/notebooks/data_table.ipynb>data table notebook</a>'\n",
              "          + ' to learn more about interactive tables.';\n",
              "        element.innerHTML = '';\n",
              "        dataTable['output_type'] = 'display_data';\n",
              "        await google.colab.output.renderOutput(dataTable, element);\n",
              "        const docLink = document.createElement('div');\n",
              "        docLink.innerHTML = docLinkHtml;\n",
              "        element.appendChild(docLink);\n",
              "      }\n",
              "    </script>\n",
              "  </div>\n",
              "\n",
              "\n",
              "<div id=\"df-48160b29-33f3-4f7d-831c-fb6bcc0e7516\">\n",
              "  <button class=\"colab-df-quickchart\" onclick=\"quickchart('df-48160b29-33f3-4f7d-831c-fb6bcc0e7516')\"\n",
              "            title=\"Suggest charts\"\n",
              "            style=\"display:none;\">\n",
              "\n",
              "<svg xmlns=\"http://www.w3.org/2000/svg\" height=\"24px\"viewBox=\"0 0 24 24\"\n",
              "     width=\"24px\">\n",
              "    <g>\n",
              "        <path d=\"M19 3H5c-1.1 0-2 .9-2 2v14c0 1.1.9 2 2 2h14c1.1 0 2-.9 2-2V5c0-1.1-.9-2-2-2zM9 17H7v-7h2v7zm4 0h-2V7h2v10zm4 0h-2v-4h2v4z\"/>\n",
              "    </g>\n",
              "</svg>\n",
              "  </button>\n",
              "\n",
              "<style>\n",
              "  .colab-df-quickchart {\n",
              "      --bg-color: #E8F0FE;\n",
              "      --fill-color: #1967D2;\n",
              "      --hover-bg-color: #E2EBFA;\n",
              "      --hover-fill-color: #174EA6;\n",
              "      --disabled-fill-color: #AAA;\n",
              "      --disabled-bg-color: #DDD;\n",
              "  }\n",
              "\n",
              "  [theme=dark] .colab-df-quickchart {\n",
              "      --bg-color: #3B4455;\n",
              "      --fill-color: #D2E3FC;\n",
              "      --hover-bg-color: #434B5C;\n",
              "      --hover-fill-color: #FFFFFF;\n",
              "      --disabled-bg-color: #3B4455;\n",
              "      --disabled-fill-color: #666;\n",
              "  }\n",
              "\n",
              "  .colab-df-quickchart {\n",
              "    background-color: var(--bg-color);\n",
              "    border: none;\n",
              "    border-radius: 50%;\n",
              "    cursor: pointer;\n",
              "    display: none;\n",
              "    fill: var(--fill-color);\n",
              "    height: 32px;\n",
              "    padding: 0;\n",
              "    width: 32px;\n",
              "  }\n",
              "\n",
              "  .colab-df-quickchart:hover {\n",
              "    background-color: var(--hover-bg-color);\n",
              "    box-shadow: 0 1px 2px rgba(60, 64, 67, 0.3), 0 1px 3px 1px rgba(60, 64, 67, 0.15);\n",
              "    fill: var(--button-hover-fill-color);\n",
              "  }\n",
              "\n",
              "  .colab-df-quickchart-complete:disabled,\n",
              "  .colab-df-quickchart-complete:disabled:hover {\n",
              "    background-color: var(--disabled-bg-color);\n",
              "    fill: var(--disabled-fill-color);\n",
              "    box-shadow: none;\n",
              "  }\n",
              "\n",
              "  .colab-df-spinner {\n",
              "    border: 2px solid var(--fill-color);\n",
              "    border-color: transparent;\n",
              "    border-bottom-color: var(--fill-color);\n",
              "    animation:\n",
              "      spin 1s steps(1) infinite;\n",
              "  }\n",
              "\n",
              "  @keyframes spin {\n",
              "    0% {\n",
              "      border-color: transparent;\n",
              "      border-bottom-color: var(--fill-color);\n",
              "      border-left-color: var(--fill-color);\n",
              "    }\n",
              "    20% {\n",
              "      border-color: transparent;\n",
              "      border-left-color: var(--fill-color);\n",
              "      border-top-color: var(--fill-color);\n",
              "    }\n",
              "    30% {\n",
              "      border-color: transparent;\n",
              "      border-left-color: var(--fill-color);\n",
              "      border-top-color: var(--fill-color);\n",
              "      border-right-color: var(--fill-color);\n",
              "    }\n",
              "    40% {\n",
              "      border-color: transparent;\n",
              "      border-right-color: var(--fill-color);\n",
              "      border-top-color: var(--fill-color);\n",
              "    }\n",
              "    60% {\n",
              "      border-color: transparent;\n",
              "      border-right-color: var(--fill-color);\n",
              "    }\n",
              "    80% {\n",
              "      border-color: transparent;\n",
              "      border-right-color: var(--fill-color);\n",
              "      border-bottom-color: var(--fill-color);\n",
              "    }\n",
              "    90% {\n",
              "      border-color: transparent;\n",
              "      border-bottom-color: var(--fill-color);\n",
              "    }\n",
              "  }\n",
              "</style>\n",
              "\n",
              "  <script>\n",
              "    async function quickchart(key) {\n",
              "      const quickchartButtonEl =\n",
              "        document.querySelector('#' + key + ' button');\n",
              "      quickchartButtonEl.disabled = true;  // To prevent multiple clicks.\n",
              "      quickchartButtonEl.classList.add('colab-df-spinner');\n",
              "      try {\n",
              "        const charts = await google.colab.kernel.invokeFunction(\n",
              "            'suggestCharts', [key], {});\n",
              "      } catch (error) {\n",
              "        console.error('Error during call to suggestCharts:', error);\n",
              "      }\n",
              "      quickchartButtonEl.classList.remove('colab-df-spinner');\n",
              "      quickchartButtonEl.classList.add('colab-df-quickchart-complete');\n",
              "    }\n",
              "    (() => {\n",
              "      let quickchartButtonEl =\n",
              "        document.querySelector('#df-48160b29-33f3-4f7d-831c-fb6bcc0e7516 button');\n",
              "      quickchartButtonEl.style.display =\n",
              "        google.colab.kernel.accessAllowed ? 'block' : 'none';\n",
              "    })();\n",
              "  </script>\n",
              "</div>\n",
              "\n",
              "    </div>\n",
              "  </div>\n"
            ],
            "application/vnd.google.colaboratory.intrinsic+json": {
              "type": "dataframe",
              "variable_name": "train_emb",
              "summary": "{\n  \"name\": \"train_emb\",\n  \"rows\": 2,\n  \"fields\": [\n    {\n      \"column\": \"Input\",\n      \"properties\": {\n        \"dtype\": \"string\",\n        \"num_unique_values\": 2,\n        \"samples\": [\n          \"milk\",\n          \"drink\"\n        ],\n        \"semantic_type\": \"\",\n        \"description\": \"\"\n      }\n    },\n    {\n      \"column\": \"Output\",\n      \"properties\": {\n        \"dtype\": \"string\",\n        \"num_unique_values\": 2,\n        \"samples\": [\n          \"drink\",\n          \"milk\"\n        ],\n        \"semantic_type\": \"\",\n        \"description\": \"\"\n      }\n    }\n  ]\n}"
            }
          },
          "metadata": {},
          "execution_count": 9
        }
      ]
    },
    {
      "cell_type": "markdown",
      "source": [
        "To further proceed towards their numerical representations, we shall also replace the words in the data frame with their equivalent IDs in `vocabulary`."
      ],
      "metadata": {
        "id": "axJv9MJscs1S"
      }
    },
    {
      "cell_type": "code",
      "source": [
        "train_emb.Input = train_emb.Input.map(vocabulary)\n",
        "train_emb.Output = train_emb.Output.map(vocabulary)\n",
        "train_emb.head()"
      ],
      "metadata": {
        "id": "co3QBNxRnPbN",
        "colab": {
          "base_uri": "https://localhost:8080/",
          "height": 112
        },
        "outputId": "d0f47817-81f1-494d-f344-304d325613a4"
      },
      "execution_count": null,
      "outputs": [
        {
          "output_type": "execute_result",
          "data": {
            "text/plain": [
              "   Input  Output\n",
              "0      0       1\n",
              "1      1       0"
            ],
            "text/html": [
              "\n",
              "  <div id=\"df-5fb33aba-6d45-4283-8366-7a2df0fcbdcd\" class=\"colab-df-container\">\n",
              "    <div>\n",
              "<style scoped>\n",
              "    .dataframe tbody tr th:only-of-type {\n",
              "        vertical-align: middle;\n",
              "    }\n",
              "\n",
              "    .dataframe tbody tr th {\n",
              "        vertical-align: top;\n",
              "    }\n",
              "\n",
              "    .dataframe thead th {\n",
              "        text-align: right;\n",
              "    }\n",
              "</style>\n",
              "<table border=\"1\" class=\"dataframe\">\n",
              "  <thead>\n",
              "    <tr style=\"text-align: right;\">\n",
              "      <th></th>\n",
              "      <th>Input</th>\n",
              "      <th>Output</th>\n",
              "    </tr>\n",
              "  </thead>\n",
              "  <tbody>\n",
              "    <tr>\n",
              "      <th>0</th>\n",
              "      <td>0</td>\n",
              "      <td>1</td>\n",
              "    </tr>\n",
              "    <tr>\n",
              "      <th>1</th>\n",
              "      <td>1</td>\n",
              "      <td>0</td>\n",
              "    </tr>\n",
              "  </tbody>\n",
              "</table>\n",
              "</div>\n",
              "    <div class=\"colab-df-buttons\">\n",
              "\n",
              "  <div class=\"colab-df-container\">\n",
              "    <button class=\"colab-df-convert\" onclick=\"convertToInteractive('df-5fb33aba-6d45-4283-8366-7a2df0fcbdcd')\"\n",
              "            title=\"Convert this dataframe to an interactive table.\"\n",
              "            style=\"display:none;\">\n",
              "\n",
              "  <svg xmlns=\"http://www.w3.org/2000/svg\" height=\"24px\" viewBox=\"0 -960 960 960\">\n",
              "    <path d=\"M120-120v-720h720v720H120Zm60-500h600v-160H180v160Zm220 220h160v-160H400v160Zm0 220h160v-160H400v160ZM180-400h160v-160H180v160Zm440 0h160v-160H620v160ZM180-180h160v-160H180v160Zm440 0h160v-160H620v160Z\"/>\n",
              "  </svg>\n",
              "    </button>\n",
              "\n",
              "  <style>\n",
              "    .colab-df-container {\n",
              "      display:flex;\n",
              "      gap: 12px;\n",
              "    }\n",
              "\n",
              "    .colab-df-convert {\n",
              "      background-color: #E8F0FE;\n",
              "      border: none;\n",
              "      border-radius: 50%;\n",
              "      cursor: pointer;\n",
              "      display: none;\n",
              "      fill: #1967D2;\n",
              "      height: 32px;\n",
              "      padding: 0 0 0 0;\n",
              "      width: 32px;\n",
              "    }\n",
              "\n",
              "    .colab-df-convert:hover {\n",
              "      background-color: #E2EBFA;\n",
              "      box-shadow: 0px 1px 2px rgba(60, 64, 67, 0.3), 0px 1px 3px 1px rgba(60, 64, 67, 0.15);\n",
              "      fill: #174EA6;\n",
              "    }\n",
              "\n",
              "    .colab-df-buttons div {\n",
              "      margin-bottom: 4px;\n",
              "    }\n",
              "\n",
              "    [theme=dark] .colab-df-convert {\n",
              "      background-color: #3B4455;\n",
              "      fill: #D2E3FC;\n",
              "    }\n",
              "\n",
              "    [theme=dark] .colab-df-convert:hover {\n",
              "      background-color: #434B5C;\n",
              "      box-shadow: 0px 1px 3px 1px rgba(0, 0, 0, 0.15);\n",
              "      filter: drop-shadow(0px 1px 2px rgba(0, 0, 0, 0.3));\n",
              "      fill: #FFFFFF;\n",
              "    }\n",
              "  </style>\n",
              "\n",
              "    <script>\n",
              "      const buttonEl =\n",
              "        document.querySelector('#df-5fb33aba-6d45-4283-8366-7a2df0fcbdcd button.colab-df-convert');\n",
              "      buttonEl.style.display =\n",
              "        google.colab.kernel.accessAllowed ? 'block' : 'none';\n",
              "\n",
              "      async function convertToInteractive(key) {\n",
              "        const element = document.querySelector('#df-5fb33aba-6d45-4283-8366-7a2df0fcbdcd');\n",
              "        const dataTable =\n",
              "          await google.colab.kernel.invokeFunction('convertToInteractive',\n",
              "                                                    [key], {});\n",
              "        if (!dataTable) return;\n",
              "\n",
              "        const docLinkHtml = 'Like what you see? Visit the ' +\n",
              "          '<a target=\"_blank\" href=https://colab.research.google.com/notebooks/data_table.ipynb>data table notebook</a>'\n",
              "          + ' to learn more about interactive tables.';\n",
              "        element.innerHTML = '';\n",
              "        dataTable['output_type'] = 'display_data';\n",
              "        await google.colab.output.renderOutput(dataTable, element);\n",
              "        const docLink = document.createElement('div');\n",
              "        docLink.innerHTML = docLinkHtml;\n",
              "        element.appendChild(docLink);\n",
              "      }\n",
              "    </script>\n",
              "  </div>\n",
              "\n",
              "\n",
              "<div id=\"df-241e7a55-d76d-4a65-bc01-0505947657e2\">\n",
              "  <button class=\"colab-df-quickchart\" onclick=\"quickchart('df-241e7a55-d76d-4a65-bc01-0505947657e2')\"\n",
              "            title=\"Suggest charts\"\n",
              "            style=\"display:none;\">\n",
              "\n",
              "<svg xmlns=\"http://www.w3.org/2000/svg\" height=\"24px\"viewBox=\"0 0 24 24\"\n",
              "     width=\"24px\">\n",
              "    <g>\n",
              "        <path d=\"M19 3H5c-1.1 0-2 .9-2 2v14c0 1.1.9 2 2 2h14c1.1 0 2-.9 2-2V5c0-1.1-.9-2-2-2zM9 17H7v-7h2v7zm4 0h-2V7h2v10zm4 0h-2v-4h2v4z\"/>\n",
              "    </g>\n",
              "</svg>\n",
              "  </button>\n",
              "\n",
              "<style>\n",
              "  .colab-df-quickchart {\n",
              "      --bg-color: #E8F0FE;\n",
              "      --fill-color: #1967D2;\n",
              "      --hover-bg-color: #E2EBFA;\n",
              "      --hover-fill-color: #174EA6;\n",
              "      --disabled-fill-color: #AAA;\n",
              "      --disabled-bg-color: #DDD;\n",
              "  }\n",
              "\n",
              "  [theme=dark] .colab-df-quickchart {\n",
              "      --bg-color: #3B4455;\n",
              "      --fill-color: #D2E3FC;\n",
              "      --hover-bg-color: #434B5C;\n",
              "      --hover-fill-color: #FFFFFF;\n",
              "      --disabled-bg-color: #3B4455;\n",
              "      --disabled-fill-color: #666;\n",
              "  }\n",
              "\n",
              "  .colab-df-quickchart {\n",
              "    background-color: var(--bg-color);\n",
              "    border: none;\n",
              "    border-radius: 50%;\n",
              "    cursor: pointer;\n",
              "    display: none;\n",
              "    fill: var(--fill-color);\n",
              "    height: 32px;\n",
              "    padding: 0;\n",
              "    width: 32px;\n",
              "  }\n",
              "\n",
              "  .colab-df-quickchart:hover {\n",
              "    background-color: var(--hover-bg-color);\n",
              "    box-shadow: 0 1px 2px rgba(60, 64, 67, 0.3), 0 1px 3px 1px rgba(60, 64, 67, 0.15);\n",
              "    fill: var(--button-hover-fill-color);\n",
              "  }\n",
              "\n",
              "  .colab-df-quickchart-complete:disabled,\n",
              "  .colab-df-quickchart-complete:disabled:hover {\n",
              "    background-color: var(--disabled-bg-color);\n",
              "    fill: var(--disabled-fill-color);\n",
              "    box-shadow: none;\n",
              "  }\n",
              "\n",
              "  .colab-df-spinner {\n",
              "    border: 2px solid var(--fill-color);\n",
              "    border-color: transparent;\n",
              "    border-bottom-color: var(--fill-color);\n",
              "    animation:\n",
              "      spin 1s steps(1) infinite;\n",
              "  }\n",
              "\n",
              "  @keyframes spin {\n",
              "    0% {\n",
              "      border-color: transparent;\n",
              "      border-bottom-color: var(--fill-color);\n",
              "      border-left-color: var(--fill-color);\n",
              "    }\n",
              "    20% {\n",
              "      border-color: transparent;\n",
              "      border-left-color: var(--fill-color);\n",
              "      border-top-color: var(--fill-color);\n",
              "    }\n",
              "    30% {\n",
              "      border-color: transparent;\n",
              "      border-left-color: var(--fill-color);\n",
              "      border-top-color: var(--fill-color);\n",
              "      border-right-color: var(--fill-color);\n",
              "    }\n",
              "    40% {\n",
              "      border-color: transparent;\n",
              "      border-right-color: var(--fill-color);\n",
              "      border-top-color: var(--fill-color);\n",
              "    }\n",
              "    60% {\n",
              "      border-color: transparent;\n",
              "      border-right-color: var(--fill-color);\n",
              "    }\n",
              "    80% {\n",
              "      border-color: transparent;\n",
              "      border-right-color: var(--fill-color);\n",
              "      border-bottom-color: var(--fill-color);\n",
              "    }\n",
              "    90% {\n",
              "      border-color: transparent;\n",
              "      border-bottom-color: var(--fill-color);\n",
              "    }\n",
              "  }\n",
              "</style>\n",
              "\n",
              "  <script>\n",
              "    async function quickchart(key) {\n",
              "      const quickchartButtonEl =\n",
              "        document.querySelector('#' + key + ' button');\n",
              "      quickchartButtonEl.disabled = true;  // To prevent multiple clicks.\n",
              "      quickchartButtonEl.classList.add('colab-df-spinner');\n",
              "      try {\n",
              "        const charts = await google.colab.kernel.invokeFunction(\n",
              "            'suggestCharts', [key], {});\n",
              "      } catch (error) {\n",
              "        console.error('Error during call to suggestCharts:', error);\n",
              "      }\n",
              "      quickchartButtonEl.classList.remove('colab-df-spinner');\n",
              "      quickchartButtonEl.classList.add('colab-df-quickchart-complete');\n",
              "    }\n",
              "    (() => {\n",
              "      let quickchartButtonEl =\n",
              "        document.querySelector('#df-241e7a55-d76d-4a65-bc01-0505947657e2 button');\n",
              "      quickchartButtonEl.style.display =\n",
              "        google.colab.kernel.accessAllowed ? 'block' : 'none';\n",
              "    })();\n",
              "  </script>\n",
              "</div>\n",
              "\n",
              "    </div>\n",
              "  </div>\n"
            ],
            "application/vnd.google.colaboratory.intrinsic+json": {
              "type": "dataframe",
              "variable_name": "train_emb",
              "summary": "{\n  \"name\": \"train_emb\",\n  \"rows\": 2,\n  \"fields\": [\n    {\n      \"column\": \"Input\",\n      \"properties\": {\n        \"dtype\": \"number\",\n        \"std\": 0,\n        \"min\": 0,\n        \"max\": 1,\n        \"num_unique_values\": 2,\n        \"samples\": [\n          1,\n          0\n        ],\n        \"semantic_type\": \"\",\n        \"description\": \"\"\n      }\n    },\n    {\n      \"column\": \"Output\",\n      \"properties\": {\n        \"dtype\": \"number\",\n        \"std\": 0,\n        \"min\": 0,\n        \"max\": 1,\n        \"num_unique_values\": 2,\n        \"samples\": [\n          0,\n          1\n        ],\n        \"semantic_type\": \"\",\n        \"description\": \"\"\n      }\n    }\n  ]\n}"
            }
          },
          "metadata": {},
          "execution_count": 10
        }
      ]
    },
    {
      "cell_type": "markdown",
      "source": [
        "## **Model Training**\n",
        "We now begin implementing a neural network to train based on the skip-gram model. For this purpose, we first have to represent the words/tokens we have as vectors.\n",
        "\n",
        "This might sound counter-intuitive since the very reason we are training this model is to find a way to represent words as vectors, but to start we have to try and represent them as vectors as best as possible in the current stage.\n",
        "\n",
        "All we know however at this stage, after all our pre-processing, is that **if there are two different words, they are not the same word** 🤯.  \n",
        "As silly as it sounds, this is the simplest way to represent two words - as vectors that share no similarity with each others.\n",
        "\n",
        "We do this by representing the N words **as unit vectors of a N-dimensional space**.\n",
        "\n",
        "In simpler terms, if we have $N$ words in our vocabulary, we represent them using a vector of length $N$ (technically $1 \\times N$). All of the values of the vector are set to zero, except for one that is set to one. Each word has its \"hot\" bit at a different position, that we can determine using its unique index in `vocabulary`.\n",
        "\n",
        "#### This is where the name **one-hot encoding** comes.\n",
        "\n",
        "![Example of a vector with a vocabulary size of 3](https://miro.medium.com/v2/resize:fit:837/1*d5-PQyRRjvzBZjI5f7X3hA.png \"Example of a vector with a vocabulary size of 3\")\n",
        "\n"
      ],
      "metadata": {
        "id": "lVd-iGNK9UpX"
      }
    },
    {
      "cell_type": "markdown",
      "source": [
        "Implement one-hot encoding for the `vocabulary`, with two separate functions:\n",
        "\n",
        "- `get_one_hot` takes an index, and returns a 2-D vector of size $1 \\times$ `vocab_size` corresponding to the index.\n",
        "\n",
        "- `get_input_tensor` takes an 1-D tensor of indexes as input, and returns a 2-D vector of size `batch_size` $\\times$ `vocab_size` (`batch_size` being the length of the input tensor).\n",
        "\n",
        "Both functions also take `vocab_size` as the second argument.\n",
        "> _**Note:** The purpose of `get_one_hot` is to simplify the implementation of `get_input_tensor`. If you have a different method for directly implementing the latter with using the former, feel free to do so._"
      ],
      "metadata": {
        "id": "E_cf7WHTb-nl"
      }
    },
    {
      "cell_type": "code",
      "source": [
        "def get_one_hot(index, vocab_size):\n",
        "    #\n",
        "    # Create one-hot vector of size vocab_size from index\n",
        "    one_hot = torch.zeros(vocab_size)\n",
        "    one_hot[index] = 1\n",
        "    #\n",
        "    return one_hot.float()\n",
        "\n",
        "def get_input_tensor(tensor, vocab_size):\n",
        "    batch_size = tensor.shape[0]\n",
        "    #\n",
        "    # Transform 1D tensor of word indexes to one-hot encoded 2D tensor of dimensions (batch_size, vocab_size)\n",
        "    inp = torch.stack([get_one_hot(i,vocab_size) for i in tensor])\n",
        "    #\n",
        "    return inp.float()\n",
        "\n",
        "assert torch.all(get_one_hot(0,3).eq(torch.tensor([[1,0,0]])))\n",
        "assert torch.all(get_input_tensor(torch.tensor([1,2,0]),3).eq(torch.tensor([[0,1,0],[0,0,1],[1,0,0]]))"
      ],
      "metadata": {
        "id": "YTmCY7C3nSir",
        "colab": {
          "base_uri": "https://localhost:8080/",
          "height": 110
        },
        "outputId": "9f8c2cd8-917e-4be5-b773-fb1061d80736"
      },
      "execution_count": 1,
      "outputs": [
        {
          "output_type": "error",
          "ename": "SyntaxError",
          "evalue": "incomplete input (<ipython-input-1-0206e06d3a33>, line 18)",
          "traceback": [
            "\u001b[0;36m  File \u001b[0;32m\"<ipython-input-1-0206e06d3a33>\"\u001b[0;36m, line \u001b[0;32m18\u001b[0m\n\u001b[0;31m    assert torch.all(get_input_tensor(torch.tensor([1,2,0]),3).eq(torch.tensor([[0,1,0],[0,0,1],[1,0,0]]))\u001b[0m\n\u001b[0m                                                                                                          ^\u001b[0m\n\u001b[0;31mSyntaxError\u001b[0m\u001b[0;31m:\u001b[0m incomplete input\n"
          ]
        }
      ]
    },
    {
      "cell_type": "markdown",
      "source": [
        "We now initialize the neural network model using PyTorch.\n",
        "\n",
        "We will train the neural network to take the source word (the word in the `Input` column) and will _\"expect\"_ it to predict its neighbors (the word in the `Output` column). Since we pass the source word into the array as its one-hot vector, we similarily will want an output in the form of a vector of the same dimensions as the one-hot vectors.\n",
        "\n",
        "Our final goal, however, is not just creating a neighbor prediction model. It is to find a representation of the words in a vector form **that represents how it is used in context with other words in the vocabulary** - to go from the one-hot representation in `vocab_size` dimensions to a lower dimension (that we can call `embed_dims`) where the words are no longer \"completely dissimilar\".\n",
        "\n",
        "The neural network should consist of two layers:\n",
        "- First, a linear layer of `embed_dims` neurons, with **no activation function** that takes the input one-hot vector\n",
        "- Then, another linear layer of `vocab_size` neurons that predicts the neighboring words\n",
        "\n",
        "![image](https://1.bp.blogspot.com/-Kf0O7V74uHI/XV0H1xlsyWI/AAAAAAAAB08/Lvkkqq1DjKIVjS3-tgbf_7D_Ijad2bBDACLcBGAs/s1600/image005.png)\n",
        "> _An example of one hot implemented with a `vocab_size` of 5, and `embed_dims` of 3_\n",
        "\n",
        "Although the output should represent the probability of what the neighboring words could be for a given source word - in which case usually a softmax activation is applied to the output layer, you will **not be activating the second layer either.**  \n",
        "**Both linear layers should also not have any biases (ie. only weights).**\n",
        "\n",
        "**Taking `embed_dims` as 4, implement the skip-gram model below:**\n",
        "<details>\n",
        "  <summary>Why are we excluding the soft max activation, and how will the model produce proper results without it?</summary>\n",
        "  <br>\n",
        "The softmax function is used to convert model outputs into probabilities by spreading out the probability mass among context words. It assigns high probabilities to likely context words and distributes the remaining probability among other words. This spreading is beneficial for larger datasets with diverse word relationships.\n",
        "<br><br>\n",
        "However, <b>in the case of a small dataset with limited co-occurrence patterns</b>, the softmax function may lead to more diffuse predictions. This diffusion can make it <b>harder to obtain distinct word embeddings and could potentially blur the clustering results</b>.\n",
        "<br><br>\n",
        "By excluding the softmax function, the predictions might become more concentrated and capture the limited co-occurrence patterns more accurately, which can be advantageous for certain tasks like clustering. Although the <b>model does not provide explicit probabilities</b>, it can still learn <b>meaningful representations that capture the similarities and relationships</b> between words based on the co-occurrence information.\n",
        "</details>"
      ],
      "metadata": {
        "id": "sh5QLK1n-1ZJ"
      }
    },
    {
      "cell_type": "code",
      "source": [
        "vocab_size = len(vocabulary)\n",
        "embed_dims = 4\n",
        "\n",
        "skipgram_model = nn.Sequential(\n",
        "    #\n",
        "    torch.nn.Linear(vocab_size, embed_dims, bias = False),\n",
        "    torch.nn.Linear(embed_dims, vocab_size, bias = False)\n",
        "    #\n",
        ")\n",
        "# Check dimensions (will except if not Linear layers)\n",
        "assert skipgram_model[0].weight.shape == (embed_dims,vocab_size)\n",
        "assert skipgram_model[1].weight.shape == (vocab_size,embed_dims)\n",
        "# No bias\n",
        "assert skipgram_model[0].bias == None and skipgram_model[1].bias == None"
      ],
      "metadata": {
        "id": "R-CycFghnfC8"
      },
      "execution_count": null,
      "outputs": []
    },
    {
      "cell_type": "markdown",
      "source": [
        "Then, run this cell to initialize the hyper-parameters.\n",
        "- `num_epochs` is the number of iterations, or to be more precise, the number of times we want to go over all the training data\n",
        "- `learning_rate` is the same as before"
      ],
      "metadata": {
        "id": "lmz1rnW4rinR"
      }
    },
    {
      "cell_type": "code",
      "source": [
        "num_epochs = 2000\n",
        "learning_rate = 2e-1"
      ],
      "metadata": {
        "id": "s2TlqPI1nf3W"
      },
      "execution_count": null,
      "outputs": []
    },
    {
      "cell_type": "markdown",
      "source": [
        "Since this time, we are segregating into multiple possible outcomes instead of just two (binary classification), we must also use a different loss function.\n",
        "\n",
        "Here, [Cross-Entropy Loss](https://pytorch.org/docs/stable/generated/torch.nn.CrossEntropyLoss.html) (a more general version of the previous BCE Loss) is used. Put simply, the loss function now expects the tensor with the predictions outputted by the model, and a **1D tensor** containing **the indexes corresponding to the expected classes (ie. words)**.\n",
        "\n",
        "Keeping this in mind, initialize `train_data` and `train_labels` for the model. Then write the training loop.\n",
        "\n",
        "<details>\n",
        "  <summary>Hint</summary>\n",
        "Some functions you wrote earlier in this assignment might come very handy now.\n",
        "</details>\n",
        "\n",
        "_**Note:** Since the model is expected to predict more that one word as the correct prediction for a given source word, the model can never become \"accurate\". The loss function will drop quickly, but will begin to plateau at a much larger value than what you would have seen last time. You can visualize this in the graph of the loss function plotted after training._\n"
      ],
      "metadata": {
        "id": "J6q4A7t-t_Aw"
      }
    },
    {
      "cell_type": "code",
      "source": [
        "\n",
        "loss_fn = torch.nn.CrossEntropyLoss() # define loss func\n",
        "loss_hist = [] # list to store loss values, to plot at the end\n",
        "\n",
        "#\n",
        "# Initialize data and labels\n",
        "train_data = get_input_tensor(torch.tensor(train_emb.Input.values), vocab_size) # Should be a one-hot encoded 2D tensor\n",
        "train_labels = torch.tensor(train_emb.Output.values) #Should be a 1D tensor of the indexes of the neighbor words expected\n",
        "#\n",
        "\n",
        "assert train_data.shape == (train_emb.shape[0], vocab_size)\n",
        "assert train_labels.shape == (train_emb.shape[0],)\n",
        "\n",
        "for epo in range(num_epochs):\n",
        "        #\n",
        "        # Compute predictions\n",
        "        pred = skipgram_model(train_data)\n",
        "\n",
        "        # Compute loss\n",
        "        loss = loss_fn(pred, train_labels)\n",
        "\n",
        "        # Reset gradients\n",
        "        skipgram_model.zero_grad()\n",
        "\n",
        "        # Backpropagation step\n",
        "        loss.backward()\n",
        "\n",
        "        # Update weights using gradient descent.\n",
        "        with torch.no_grad():\n",
        "          for param in skipgram_model.parameters():\n",
        "            param -= learning_rate * param.grad\n",
        "\n",
        "        #\n",
        "\n",
        "        loss_hist.append(loss.item())\n",
        "\n",
        "        # Print the loss every 250 epochs\n",
        "        if epo%250 == 0:\n",
        "          print(f'Epoch {epo}, loss = {loss}')\n",
        "\n",
        "plt.plot(loss_hist)\n",
        "plt.xlabel(\"No. of epochs\")\n",
        "plt.ylabel(\"Loss\")"
      ],
      "metadata": {
        "id": "iGR4aeyGnipH"
      },
      "execution_count": null,
      "outputs": []
    },
    {
      "cell_type": "markdown",
      "source": [
        "## **Using the Skip-Gram embedding**\n",
        "By training the model to perform this fake task, we have now created a neural network that when given a one hot encoded from the vocabulary, reduces it to a vector of length `embed_dims`, and then tries to predict what words could be its neighbors.\n",
        "\n",
        "What we are interested in, is the first part of this process - the reduction of a 21 long vector to one only 4 long.\n",
        "\n",
        "We shall now extract the parameter responsible for this conversion - the weights of the first layer `W1`.\n",
        "\n",
        "Access the tensor containing the weights of the first hidden layer, and create a \"detached\" copy of it, converted to a Numpy ndarray. Due to how PyTorch stores its weights, you will also have to transpose the matrix."
      ],
      "metadata": {
        "id": "cSsRzZIo9Ytv"
      }
    },
    {
      "cell_type": "code",
      "source": [
        "\n",
        "#\n",
        "W1 = skipgram_model[0].weight.detach().cpu().numpy().T\n",
        "#\n",
        "\n",
        "assert isinstance(W1,np.ndarray) and W1.shape == (vocab_size,embed_dims)"
      ],
      "metadata": {
        "id": "V00aF7yZnlwG"
      },
      "execution_count": null,
      "outputs": []
    },
    {
      "cell_type": "markdown",
      "source": [
        "You now have a matrix, that given a one hot word embedding, can map it to another embedding of lesser dimensions. You will see that the word embedding for a given index is very simply just the row of `W1` corresponding to said index.\n",
        "\n",
        "$$\n",
        "\\begin{bmatrix}\n",
        "0 & 1 & 0 & 0 &\\cdots & 0\n",
        "\\end{bmatrix}_{1×V}\n",
        "\\times\n",
        "\\begin{bmatrix}\n",
        "w^{1}_{1,1} & w^{1}_{1,2} &\\cdots & w^{1}_{1,N}\\\\\n",
        "w^{1}_{2,1} & w^{1}_{2,2} &\\cdots & w^{1}_{2,N}\\\\\n",
        "\\vdots & \\vdots &\\ddots & \\vdots\\\\\n",
        "w^{1}_{V,1} & w^{1}_{V,2} &\\cdots & w^{1}_{V,N}\\\\\n",
        "\\end{bmatrix}_{V×N}\n",
        "=\n",
        "\\begin{bmatrix}\n",
        "w^{1}_{2,1} & w^{1}_{2,2} &\\cdots & w^{1}_{2,N}\\\\\n",
        "\\end{bmatrix}_{1×N}\n",
        "$$\n",
        "<br>\n",
        "$$\n",
        "\\text{Here, V is vocab_size and N is embed_dims}\n",
        "$$\n",
        "> _Note: While the sizes remain the same, in Python everything is zero-indexed (first element is zero), not one-indexed like mathematical arrays. What you see here is the computation of the one-hot vector corresponding to index 1 in Python_\n",
        "\n",
        "### **Graphical Representation**\n",
        "\n",
        "We now wish to observe the similarities and relations between the generated word embeddings, and the simplest way to do so is graphically. However, we cannot easily represent a complete 4D vector in a graph.\n",
        "\n",
        "To solve this, we shall use **SVD (Single Value Decomposition)** to reduce the $21\\times4$ matrix to a $21\\times2$ matrix, containing only the **most sailent features** of the matrix.\n",
        "\n",
        "You need not understand this concept however, and all you need to know is that **in exchange for reducing the number of features of our word we care about, we are able to represent the embedding in even lesser dimensions.**  \n",
        "Note however, that it **may not always be** that the **reduction in features** must also lead to **a reduction in quality and usability**, as you shall see.\n",
        "\n",
        "<details>\n",
        "  <summary>Resources on SVD (Optional)</summary>\n",
        "  <ul>\n",
        "  <li><a href = \"http://timbaumann.info/svd-image-compression-demo/\">Short article with demo of usage in image compression</a></li>\n",
        "  <li><a href = \"https://www.youtube.com/watch?v=OvzJiur55vo\">Youtube video on application in NLP</a></li>\n",
        "  </ul>\n",
        "</details>"
      ],
      "metadata": {
        "id": "3IZlE9xvDFyf"
      }
    },
    {
      "cell_type": "code",
      "source": [
        "svd = decomposition.TruncatedSVD(n_components=2)\n",
        "W1_dec = svd.fit_transform(W1) #Now a 21 x 2 matrix\n",
        "\n",
        "# Just like we saw in the original W1, each row is\n",
        "# a word embedding, i.e a given column contains the\n",
        "# components of every word embedding along a certain \"direction\"\n",
        "x = W1_dec[:,0]\n",
        "y = W1_dec[:,1]\n",
        "plot = sns.scatterplot(x=x, y=y)\n",
        "\n",
        "# Red dot on the origin\n",
        "plot.scatter(x=0, y=0, color='r',s=10)\n",
        "\n",
        "for i in range(0,W1_dec.shape[0]):\n",
        "     plot.text(x[i], y[i], list(vocabulary.keys())[i], horizontalalignment='center', size='small', color='black', weight='normal');\n",
        "\n"
      ],
      "metadata": {
        "id": "IjxurHdfnmrh",
        "colab": {
          "base_uri": "https://localhost:8080/",
          "height": 676
        },
        "outputId": "cf0fd6d7-f718-4f65-b1f0-8619d2b6713d"
      },
      "execution_count": null,
      "outputs": [
        {
          "output_type": "display_data",
          "data": {
            "text/plain": [
              "<Figure size 1000x800 with 1 Axes>"
            ],
            "image/png": "[encoded data removed]"
          },
          "metadata": {}
        }
      ]
    },
    {
      "cell_type": "markdown",
      "source": [
        "You should see one very closely arranged group of similar words, along with one or more slightly dispersed yet clearly and separately visible groups of similar words (how separate they are could change if you have changed the hyper-parameters).\n",
        "### **Comparing quantitatively using Cosine Similarity**\n",
        "\n",
        "To better understand how closely related any two words our, we shall use a simple metric called **cosine similarity**.\n",
        "\n",
        "Just like in the vector algebra you know, the smaller the angle between two vectors, the larger the value of its cosine will be. Therefore, by finding the cosine of the angle between two word embeddings, we can compare how similar they are.\n",
        "\n",
        "First, complete the function `get_embeddings`, that for a given word, returns the corresponding 4D and 2D word embeddings. `cosine_similarity` will not accept rank one arrays, make sure the array is \"2D\" (in a different sense than the word embeddings)."
      ],
      "metadata": {
        "id": "3HnTYToRSuxp"
      }
    },
    {
      "cell_type": "code",
      "source": [
        "def get_embeddings(word):\n",
        "  #\n",
        "  # Get the 4D and 2D representations corresponding to the word\n",
        "  # using vocabulary, W1 and W1_dec\n",
        "  vec_4d = W1[vocabulary[word]].reshape(-1,1)\n",
        "  vec_2d = W1_dec[vocabulary[word]].reshape(-1,1)\n",
        "  #\n",
        "  #\n",
        "  return vec_4d,vec_2d"
      ],
      "metadata": {
        "id": "YOFkam1ikdMl"
      },
      "execution_count": null,
      "outputs": []
    },
    {
      "cell_type": "markdown",
      "source": [
        "Try checking out the similarity of words in both 4D and 2D word embeddings."
      ],
      "metadata": {
        "id": "eI-PPb9TdDkg"
      }
    },
    {
      "cell_type": "code",
      "source": [
        "#\n",
        "word1 = 'cherry'\n",
        "word2 = 'apple'\n",
        "#\n",
        "\n",
        "assert vocabulary[word1] != None and vocabulary[word2] != None\n",
        "\n",
        "word1_4d, word1_2d = get_embeddings(word1)\n",
        "word2_4d, word2_2d = get_embeddings(word2)\n",
        "\n",
        "print(f'Cosine similarity of {word1} and {word2}:')\n",
        "print('4D: {:.3f}'.format(cosine_similarity(word1_4d,word2_4d)[0,0]))\n",
        "print('2D: {:.3f}'.format(cosine_similarity(word1_2d,word2_2d)[0,0]))"
      ],
      "metadata": {
        "id": "GyNXgH4mVrZ5",
        "colab": {
          "base_uri": "https://localhost:8080/"
        },
        "outputId": "b4eac654-2a50-4114-e7d4-81e96048e36e"
      },
      "execution_count": null,
      "outputs": [
        {
          "output_type": "stream",
          "name": "stdout",
          "text": [
            "Cosine similarity of cherry and apple:\n",
            "4D: 1.000\n",
            "2D: 1.000\n"
          ]
        }
      ]
    },
    {
      "cell_type": "markdown",
      "source": [
        "## **Optional**\n",
        "### Please submit the assignment before you start with this section\n",
        "**Then make a different copy of the notebook and continue there**\n",
        "\n",
        "- Write a function that given a word, prints the most similar word to it for both the original and reduced word embeddings.  \n",
        "- Then try and observe what kind of words are next to each other. Does the pattern make sense?\n",
        "- Try adding more sentences to the corpus, making sure to not upset the preprocessor. Ex:\n",
        " - He is drinking milk in Boston\n",
        " - He is drawing a car\n",
        " - She was drawing an apple\n",
        " - A mango in Boston\n",
        " - He is drinking mango juice\n",
        " - He is eating sugar\n",
        "<details>\n",
        " <summary>Verbs that follow the simple -ing suffixation</summary>\n",
        "<ul>\n",
        "  <li>Walking</li>\n",
        "  <li>Singing</li>\n",
        "  <li>Jumping</li>\n",
        "  <li>Reading</li>\n",
        "  <li>Playing</li>\n",
        "  <li>Talking</li>\n",
        "  <li>Cooking</li>\n",
        "  <li>Flying</li>\n",
        "  <li>Studying</li>\n",
        "  <li>Painting</li>\n",
        "  <li>Climbing</li>\n",
        "  <li>Thinking</li>\n",
        "  <li>Sleeping</li>\n",
        "  <li>Listening</li>\n",
        "</ul>\n",
        "</details>\n",
        "- Feel free to play around with hyper-parameters, maybe adding back the softmax function and seeing how this changes the requirements for training the model"
      ],
      "metadata": {
        "id": "sBll4_B6gEeK"
      }
    },
    {
      "cell_type": "code",
      "source": [
        "\n",
        "def closest_neighbors(word):\n",
        "  #\n",
        "  pass\n",
        "  #"
      ],
      "metadata": {
        "id": "LjsyLocYdSjU"
      },
      "execution_count": null,
      "outputs": []
    },
    {
      "cell_type": "code",
      "source": [
        "for w in vocabulary.keys():\n",
        "  closest_neighbors(w)"
      ],
      "metadata": {
        "id": "tN_J4U9kfZ-9"
      },
      "execution_count": null,
      "outputs": []
    }
  ]
}
